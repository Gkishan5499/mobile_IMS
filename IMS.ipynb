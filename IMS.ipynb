{
  "nbformat": 4,
  "nbformat_minor": 0,
  "metadata": {
    "colab": {
      "name": "IMS.ipynb",
      "provenance": [],
      "collapsed_sections": []
    },
    "kernelspec": {
      "name": "python3",
      "display_name": "Python 3"
    },
    "language_info": {
      "name": "python"
    }
  },
  "cells": [
    {
      "cell_type": "code",
      "metadata": {
        "id": "cioNpBehRMQ6"
      },
      "source": [
        "mrecord= {'11001': {'name': 'sumsung Galaxy Z flip  ', 'pr': 84000, 'qn': 14},\n",
        "         '11002': {'name': 'sumsung Galaxy S21', 'pr': 78000, 'qn': 120},\n",
        "         '11003': {'name': 'sumsung Galaxy A52', 'pr': 70000, 'qn': 10},\n",
        "         '11004': {'name': 'sumsung Galaxy z', 'pr': 11000, 'qn': 24}}\n",
        "\n",
        "  "
      ],
      "execution_count": 5,
      "outputs": []
    },
    {
      "cell_type": "code",
      "metadata": {
        "colab": {
          "base_uri": "https://localhost:8080/"
        },
        "id": "Eq0vx6xsagGN",
        "outputId": "b23c34aa-442c-4c66-ac07-b2fca0a13a7f"
      },
      "source": [
        "mrecord"
      ],
      "execution_count": 6,
      "outputs": [
        {
          "output_type": "execute_result",
          "data": {
            "text/plain": [
              "{'11001': {'name': 'sumsung Galaxy Z flip  ', 'pr': 84000, 'qn': 14},\n",
              " '11002': {'name': 'sumsung Galaxy S21', 'pr': 78000, 'qn': 120},\n",
              " '11003': {'name': 'sumsung Galaxy A52', 'pr': 70000, 'qn': 10},\n",
              " '11004': {'name': 'sumsung Galaxy z', 'pr': 11000, 'qn': 24}}"
            ]
          },
          "metadata": {},
          "execution_count": 6
        }
      ]
    },
    {
      "cell_type": "code",
      "metadata": {
        "id": "dnnrhUb1aiBX"
      },
      "source": [
        "import json"
      ],
      "execution_count": 7,
      "outputs": []
    },
    {
      "cell_type": "code",
      "metadata": {
        "id": "scaz2TeccHRl"
      },
      "source": [
        "js =json.dumps(mrecord)"
      ],
      "execution_count": 8,
      "outputs": []
    },
    {
      "cell_type": "code",
      "metadata": {
        "colab": {
          "base_uri": "https://localhost:8080/",
          "height": 53
        },
        "id": "bQwahvAWcVVH",
        "outputId": "73658b4e-37c3-415a-ea62-e8b68a8b7a0d"
      },
      "source": [
        "js"
      ],
      "execution_count": 9,
      "outputs": [
        {
          "output_type": "execute_result",
          "data": {
            "application/vnd.google.colaboratory.intrinsic+json": {
              "type": "string"
            },
            "text/plain": [
              "'{\"11001\": {\"name\": \"sumsung Galaxy Z flip  \", \"pr\": 84000, \"qn\": 14}, \"11002\": {\"name\": \"sumsung Galaxy S21\", \"pr\": 78000, \"qn\": 120}, \"11003\": {\"name\": \"sumsung Galaxy A52\", \"pr\": 70000, \"qn\": 10}, \"11004\": {\"name\": \"sumsung Galaxy z\", \"pr\": 11000, \"qn\": 24}}'"
            ]
          },
          "metadata": {},
          "execution_count": 9
        }
      ]
    },
    {
      "cell_type": "code",
      "metadata": {
        "colab": {
          "base_uri": "https://localhost:8080/"
        },
        "id": "IujUwJEOccnc",
        "outputId": "be759046-28c7-477b-e754-8bd5751d323c"
      },
      "source": [
        "mrecord"
      ],
      "execution_count": 10,
      "outputs": [
        {
          "output_type": "execute_result",
          "data": {
            "text/plain": [
              "{'11001': {'name': 'sumsung Galaxy Z flip  ', 'pr': 84000, 'qn': 14},\n",
              " '11002': {'name': 'sumsung Galaxy S21', 'pr': 78000, 'qn': 120},\n",
              " '11003': {'name': 'sumsung Galaxy A52', 'pr': 70000, 'qn': 10},\n",
              " '11004': {'name': 'sumsung Galaxy z', 'pr': 11000, 'qn': 24}}"
            ]
          },
          "metadata": {},
          "execution_count": 10
        }
      ]
    },
    {
      "cell_type": "code",
      "metadata": {
        "id": "2ywBgRyRcjBZ"
      },
      "source": [
        ""
      ],
      "execution_count": null,
      "outputs": []
    },
    {
      "cell_type": "code",
      "metadata": {
        "id": "R6OzTTIddAnZ"
      },
      "source": [
        "fb= open(\"mrecord.json\",\"w\")\n",
        "fb.write(js)\n",
        "fb.close()"
      ],
      "execution_count": 11,
      "outputs": []
    },
    {
      "cell_type": "code",
      "metadata": {
        "id": "_7Ixf68qfjai"
      },
      "source": [
        "fb= open(\"mrecord.json\",'r')\n",
        "r= fb.read()\n",
        "fb.close()\n",
        "record= json.loads(r)"
      ],
      "execution_count": 12,
      "outputs": []
    },
    {
      "cell_type": "code",
      "metadata": {
        "colab": {
          "base_uri": "https://localhost:8080/"
        },
        "id": "ApqQ0fOfgDQR",
        "outputId": "8065c555-99e1-4f71-e688-3945d6de7fad"
      },
      "source": [
        "record"
      ],
      "execution_count": 13,
      "outputs": [
        {
          "output_type": "execute_result",
          "data": {
            "text/plain": [
              "{'11001': {'name': 'sumsung Galaxy Z flip  ', 'pr': 84000, 'qn': 14},\n",
              " '11002': {'name': 'sumsung Galaxy S21', 'pr': 78000, 'qn': 120},\n",
              " '11003': {'name': 'sumsung Galaxy A52', 'pr': 70000, 'qn': 10},\n",
              " '11004': {'name': 'sumsung Galaxy z', 'pr': 11000, 'qn': 24}}"
            ]
          },
          "metadata": {},
          "execution_count": 13
        }
      ]
    },
    {
      "cell_type": "code",
      "metadata": {
        "id": "ROczPigxgEmU"
      },
      "source": [
        ""
      ],
      "execution_count": null,
      "outputs": []
    },
    {
      "cell_type": "markdown",
      "metadata": {
        "id": "gbTsy5H9gH5b"
      },
      "source": [
        "**ADD The Product in this Inventry Mangement .. **"
      ]
    },
    {
      "cell_type": "code",
      "metadata": {
        "colab": {
          "base_uri": "https://localhost:8080/"
        },
        "id": "lUXdrzuagSZh",
        "outputId": "32bfbf55-18c3-439a-e723-b8bd982ac363"
      },
      "source": [
        "pid= input(\"Enter the Prod. Id : \")\n",
        "pname= input(\"Enter the Prod. Name : \")\n",
        "pprice= int(input(\"Enter the prod. price:\"))\n",
        "pqnty= int(input(\"Enter the prod. qauntity: \"))\n",
        "\n",
        "record[pid]={\"name\":pname,\"pr\":pprice,\"qn\":pqnty}\n",
        "\n"
      ],
      "execution_count": 54,
      "outputs": [
        {
          "name": "stdout",
          "output_type": "stream",
          "text": [
            "Enter the Prod. Id : 11030\n",
            "Enter the Prod. Name : iPhone \n",
            "Enter the prod. price:1200000\n",
            "Enter the prod. qauntity: 12\n"
          ]
        }
      ]
    },
    {
      "cell_type": "code",
      "metadata": {
        "colab": {
          "base_uri": "https://localhost:8080/"
        },
        "id": "50JvGCy6iK-u",
        "outputId": "6b9780f7-136f-4d54-97aa-e684fd254bbc"
      },
      "source": [
        "record"
      ],
      "execution_count": 55,
      "outputs": [
        {
          "output_type": "execute_result",
          "data": {
            "text/plain": [
              "{'11001': {'name': 'Galxy 5S', 'pr': 21000, 'qn': 15},\n",
              " '11002': {'name': 'sumsung Galaxy S21', 'pr': 78000, 'qn': 120},\n",
              " '11003': {'name': 'sumsung Galaxy A52', 'pr': 70000, 'qn': 10},\n",
              " '11004': {'name': 'sumsung Galaxy z', 'pr': 11000, 'qn': 24},\n",
              " '11005': {'name': 'Vivo 12pro', 'pr': 12000, 'qn': 12},\n",
              " '11006': {'name': 'Vivo17pro', 'pr': 13000, 'qn': 15},\n",
              " '11007': {'name': 'Oppo As2', 'pr': 10000, 'qn': 23},\n",
              " '11008': {'name': 'Oppo S17 ', 'pr': 8000, 'qn': 54},\n",
              " '11009': {'name': 'Realme', 'pr': 12000, 'qn': 34},\n",
              " '11010': {'name': 'micromax', 'pr': 7800, 'qn': 30},\n",
              " '11011': {'name': 'motorolo', 'pr': 23000, 'qn': 40},\n",
              " '11012': {'name': 'Motorola12pro', 'pr': 200000, 'qn': 26},\n",
              " '11013': {'name': 'Nokia 8s ', 'pr': 25000, 'qn': 18},\n",
              " '11014': {'name': 'Jiophone', 'pr': 3000, 'qn': 150},\n",
              " '11015': {'name': 'Mi S4', 'pr': 7000, 'qn': 75},\n",
              " '11016': {'name': 'VideoCon', 'pr': 3000, 'qn': 50},\n",
              " '11017': {'name': 'Tatasky', 'pr': 4000, 'qn': 50},\n",
              " '11018': {'name': 'Reliance ', 'pr': 5000, 'qn': 32},\n",
              " '11019': {'name': 'Airtel', 'pr': 3500, 'qn': 45},\n",
              " '11020': {'name': 'Sony', 'pr': 120000, 'qn': 5},\n",
              " '11021': {'name': 'LCD ', 'pr': 50000, 'qn': 28},\n",
              " '11022': {'name': 'LG LED', 'pr': 130000, 'qn': 8},\n",
              " '11023': {'name': 'Sonix', 'pr': 60000, 'qn': 6},\n",
              " '11024': {'name': 'Panasonic', 'pr': 40000, 'qn': 25},\n",
              " '11025': {'name': 'Zebronic', 'pr': 12000, 'qn': 37},\n",
              " '11026': {'name': 'Bolt Sound', 'pr': 10000, 'qn': 40},\n",
              " '11027': {'name': 'Intel sound ', 'pr': 1000, 'qn': 43},\n",
              " '11028': {'name': 'JBL harmon', 'pr': 15000, 'qn': 100},\n",
              " '11029': {'name': 'smart watch i+', 'pr': 8000, 'qn': 12},\n",
              " '11030': {'name': 'iPhone ', 'pr': 1200000, 'qn': 12}}"
            ]
          },
          "metadata": {},
          "execution_count": 55
        }
      ]
    },
    {
      "cell_type": "code",
      "metadata": {
        "id": "hQY4u5vciqIY"
      },
      "source": [
        "js= json.dumps(record)"
      ],
      "execution_count": 56,
      "outputs": []
    },
    {
      "cell_type": "code",
      "metadata": {
        "colab": {
          "base_uri": "https://localhost:8080/",
          "height": 160
        },
        "id": "ws8WJeHLGPkn",
        "outputId": "ed7ff585-7df2-44d4-ba8d-534d0ddf67dc"
      },
      "source": [
        "js"
      ],
      "execution_count": 57,
      "outputs": [
        {
          "output_type": "execute_result",
          "data": {
            "application/vnd.google.colaboratory.intrinsic+json": {
              "type": "string"
            },
            "text/plain": [
              "'{\"11001\": {\"name\": \"Galxy 5S\", \"pr\": 21000, \"qn\": 15}, \"11002\": {\"name\": \"sumsung Galaxy S21\", \"pr\": 78000, \"qn\": 120}, \"11003\": {\"name\": \"sumsung Galaxy A52\", \"pr\": 70000, \"qn\": 10}, \"11004\": {\"name\": \"sumsung Galaxy z\", \"pr\": 11000, \"qn\": 24}, \"11005\": {\"name\": \"Vivo 12pro\", \"pr\": 12000, \"qn\": 12}, \"11006\": {\"name\": \"Vivo17pro\", \"pr\": 13000, \"qn\": 15}, \"11007\": {\"name\": \"Oppo As2\", \"pr\": 10000, \"qn\": 23}, \"11008\": {\"name\": \"Oppo S17 \", \"pr\": 8000, \"qn\": 54}, \"11009\": {\"name\": \"Realme\", \"pr\": 12000, \"qn\": 34}, \"11010\": {\"name\": \"micromax\", \"pr\": 7800, \"qn\": 30}, \"11011\": {\"name\": \"motorolo\", \"pr\": 23000, \"qn\": 40}, \"11012\": {\"name\": \"Motorola12pro\", \"pr\": 200000, \"qn\": 26}, \"11013\": {\"name\": \"Nokia 8s \", \"pr\": 25000, \"qn\": 18}, \"11014\": {\"name\": \"Jiophone\", \"pr\": 3000, \"qn\": 150}, \"11015\": {\"name\": \"Mi S4\", \"pr\": 7000, \"qn\": 75}, \"11016\": {\"name\": \"VideoCon\", \"pr\": 3000, \"qn\": 50}, \"11017\": {\"name\": \"Tatasky\", \"pr\": 4000, \"qn\": 50}, \"11018\": {\"name\": \"Reliance \", \"pr\": 5000, \"qn\": 32}, \"11019\": {\"name\": \"Airtel\", \"pr\": 3500, \"qn\": 45}, \"11020\": {\"name\": \"Sony\", \"pr\": 120000, \"qn\": 5}, \"11021\": {\"name\": \"LCD \", \"pr\": 50000, \"qn\": 28}, \"11022\": {\"name\": \"LG LED\", \"pr\": 130000, \"qn\": 8}, \"11023\": {\"name\": \"Sonix\", \"pr\": 60000, \"qn\": 6}, \"11024\": {\"name\": \"Panasonic\", \"pr\": 40000, \"qn\": 25}, \"11025\": {\"name\": \"Zebronic\", \"pr\": 12000, \"qn\": 37}, \"11026\": {\"name\": \"Bolt Sound\", \"pr\": 10000, \"qn\": 40}, \"11027\": {\"name\": \"Intel sound \", \"pr\": 1000, \"qn\": 43}, \"11028\": {\"name\": \"JBL harmon\", \"pr\": 15000, \"qn\": 100}, \"11029\": {\"name\": \"smart watch i+\", \"pr\": 8000, \"qn\": 12}, \"11030\": {\"name\": \"iPhone \", \"pr\": 1200000, \"qn\": 12}}'"
            ]
          },
          "metadata": {},
          "execution_count": 57
        }
      ]
    },
    {
      "cell_type": "code",
      "metadata": {
        "id": "KdcfkvVNGQGH"
      },
      "source": [
        ""
      ],
      "execution_count": null,
      "outputs": []
    },
    {
      "cell_type": "markdown",
      "metadata": {
        "id": "4UnjiIImGX_C"
      },
      "source": [
        "** Creat a New Json file**"
      ]
    },
    {
      "cell_type": "code",
      "metadata": {
        "id": "AEGnWiI0Gkbb"
      },
      "source": [
        "fl= open(\"record.json\",\"w\")\n",
        "fl.write(js)\n",
        "fl.close()"
      ],
      "execution_count": 59,
      "outputs": []
    },
    {
      "cell_type": "code",
      "metadata": {
        "id": "Ngo-M2DFG1V-"
      },
      "source": [
        ""
      ],
      "execution_count": null,
      "outputs": []
    },
    {
      "cell_type": "markdown",
      "metadata": {
        "id": "Fs69r1UlHCcU"
      },
      "source": [
        "**Record this is new json file  and \n",
        "Read Data from new Json file**"
      ]
    },
    {
      "cell_type": "code",
      "metadata": {
        "id": "V8_Vo19vHJui"
      },
      "source": [
        "fl= open(\"record.json\",\"r\")\n",
        "rs= fl.read()\n",
        "fl.close()\n",
        "rec= json.loads(rs)"
      ],
      "execution_count": 62,
      "outputs": []
    },
    {
      "cell_type": "code",
      "metadata": {
        "colab": {
          "base_uri": "https://localhost:8080/"
        },
        "id": "KaZlinKTHd1D",
        "outputId": "3cef20f6-258a-4fb1-e89d-e48257d0c3c0"
      },
      "source": [
        "rec  # All datas in my Inventory .."
      ],
      "execution_count": 64,
      "outputs": [
        {
          "output_type": "execute_result",
          "data": {
            "text/plain": [
              "{'11001': {'name': 'Galxy 5S', 'pr': 21000, 'qn': 15},\n",
              " '11002': {'name': 'sumsung Galaxy S21', 'pr': 78000, 'qn': 120},\n",
              " '11003': {'name': 'sumsung Galaxy A52', 'pr': 70000, 'qn': 10},\n",
              " '11004': {'name': 'sumsung Galaxy z', 'pr': 11000, 'qn': 24},\n",
              " '11005': {'name': 'Vivo 12pro', 'pr': 12000, 'qn': 12},\n",
              " '11006': {'name': 'Vivo17pro', 'pr': 13000, 'qn': 15},\n",
              " '11007': {'name': 'Oppo As2', 'pr': 10000, 'qn': 23},\n",
              " '11008': {'name': 'Oppo S17 ', 'pr': 8000, 'qn': 54},\n",
              " '11009': {'name': 'Realme', 'pr': 12000, 'qn': 34},\n",
              " '11010': {'name': 'micromax', 'pr': 7800, 'qn': 30},\n",
              " '11011': {'name': 'motorolo', 'pr': 23000, 'qn': 40},\n",
              " '11012': {'name': 'Motorola12pro', 'pr': 200000, 'qn': 26},\n",
              " '11013': {'name': 'Nokia 8s ', 'pr': 25000, 'qn': 18},\n",
              " '11014': {'name': 'Jiophone', 'pr': 3000, 'qn': 150},\n",
              " '11015': {'name': 'Mi S4', 'pr': 7000, 'qn': 75},\n",
              " '11016': {'name': 'VideoCon', 'pr': 3000, 'qn': 50},\n",
              " '11017': {'name': 'Tatasky', 'pr': 4000, 'qn': 50},\n",
              " '11018': {'name': 'Reliance ', 'pr': 5000, 'qn': 32},\n",
              " '11019': {'name': 'Airtel', 'pr': 3500, 'qn': 45},\n",
              " '11020': {'name': 'Sony', 'pr': 120000, 'qn': 5},\n",
              " '11021': {'name': 'LCD ', 'pr': 50000, 'qn': 28},\n",
              " '11022': {'name': 'LG LED', 'pr': 130000, 'qn': 8},\n",
              " '11023': {'name': 'Sonix', 'pr': 60000, 'qn': 6},\n",
              " '11024': {'name': 'Panasonic', 'pr': 40000, 'qn': 25},\n",
              " '11025': {'name': 'Zebronic', 'pr': 12000, 'qn': 37},\n",
              " '11026': {'name': 'Bolt Sound', 'pr': 10000, 'qn': 40},\n",
              " '11027': {'name': 'Intel sound ', 'pr': 1000, 'qn': 43},\n",
              " '11028': {'name': 'JBL harmon', 'pr': 15000, 'qn': 100},\n",
              " '11029': {'name': 'smart watch i+', 'pr': 8000, 'qn': 12},\n",
              " '11030': {'name': 'iPhone ', 'pr': 1200000, 'qn': 12}}"
            ]
          },
          "metadata": {},
          "execution_count": 64
        }
      ]
    },
    {
      "cell_type": "code",
      "metadata": {
        "colab": {
          "base_uri": "https://localhost:8080/"
        },
        "id": "7IVDOsaIHzxt",
        "outputId": "410cc669-8a9c-4c19-c129-0953cc8b63e3"
      },
      "source": [
        "type(rec)"
      ],
      "execution_count": 65,
      "outputs": [
        {
          "output_type": "execute_result",
          "data": {
            "text/plain": [
              "dict"
            ]
          },
          "metadata": {},
          "execution_count": 65
        }
      ]
    },
    {
      "cell_type": "code",
      "metadata": {
        "colab": {
          "base_uri": "https://localhost:8080/"
        },
        "id": "Ou4l1lLiJCFX",
        "outputId": "f9cb30b8-8293-4e56-b6f8-eb42ee45aa41"
      },
      "source": [
        "rec['11001']"
      ],
      "execution_count": 88,
      "outputs": [
        {
          "output_type": "execute_result",
          "data": {
            "text/plain": [
              "{'name': 'Galxy 5S', 'pr': 21000, 'qn': 15}"
            ]
          },
          "metadata": {},
          "execution_count": 88
        }
      ]
    },
    {
      "cell_type": "code",
      "metadata": {
        "id": "u0wa4-HgJwCr"
      },
      "source": [
        ""
      ],
      "execution_count": null,
      "outputs": []
    },
    {
      "cell_type": "markdown",
      "metadata": {
        "id": "ztla9ieBLiRW"
      },
      "source": [
        "**Find  the Product's Details from its Product Id .**"
      ]
    },
    {
      "cell_type": "code",
      "metadata": {
        "colab": {
          "base_uri": "https://localhost:8080/"
        },
        "id": "p1Mg2yrgLwB7",
        "outputId": "98a8368c-e19b-4053-a4d4-6db3c40e8bb8"
      },
      "source": [
        "n= input(\"Enter the Product Id : \")\n",
        "for i in rec:\n",
        "  if (n==i):\n",
        "    print(rec[n])\n",
        "\n",
        "    "
      ],
      "execution_count": 115,
      "outputs": [
        {
          "output_type": "stream",
          "name": "stdout",
          "text": [
            "Enter the Product Id : 11002\n",
            "{'name': 'sumsung Galaxy S21', 'pr': 78000, 'qn': 120}\n"
          ]
        }
      ]
    },
    {
      "cell_type": "code",
      "metadata": {
        "colab": {
          "base_uri": "https://localhost:8080/",
          "height": 35
        },
        "id": "_5yXsRsBMr_w",
        "outputId": "9d8a65df-e6e4-4927-f875-0492745d8d33"
      },
      "source": [
        "rec['11002']['name']"
      ],
      "execution_count": 117,
      "outputs": [
        {
          "output_type": "execute_result",
          "data": {
            "application/vnd.google.colaboratory.intrinsic+json": {
              "type": "string"
            },
            "text/plain": [
              "'sumsung Galaxy S21'"
            ]
          },
          "metadata": {},
          "execution_count": 117
        }
      ]
    },
    {
      "cell_type": "code",
      "metadata": {
        "colab": {
          "base_uri": "https://localhost:8080/"
        },
        "id": "NV1AxT2oPU73",
        "outputId": "97bb990e-e785-43d9-b825-a151be65cb97"
      },
      "source": [
        "rec['11002']['pr']"
      ],
      "execution_count": 118,
      "outputs": [
        {
          "output_type": "execute_result",
          "data": {
            "text/plain": [
              "78000"
            ]
          },
          "metadata": {},
          "execution_count": 118
        }
      ]
    },
    {
      "cell_type": "code",
      "metadata": {
        "colab": {
          "base_uri": "https://localhost:8080/"
        },
        "id": "8vTP5J7TSC9v",
        "outputId": "dc02876f-5615-4926-dfbc-771f76b147a4"
      },
      "source": [
        "rec['11002']['qn']"
      ],
      "execution_count": 119,
      "outputs": [
        {
          "output_type": "execute_result",
          "data": {
            "text/plain": [
              "120"
            ]
          },
          "metadata": {},
          "execution_count": 119
        }
      ]
    },
    {
      "cell_type": "code",
      "metadata": {
        "colab": {
          "base_uri": "https://localhost:8080/"
        },
        "id": "rxbAgp9ISL-7",
        "outputId": "d8d45ef6-61cb-4a9f-a31e-cf6bdb5f4c8b"
      },
      "source": [
        "len(rec)"
      ],
      "execution_count": 120,
      "outputs": [
        {
          "output_type": "execute_result",
          "data": {
            "text/plain": [
              "30"
            ]
          },
          "metadata": {},
          "execution_count": 120
        }
      ]
    },
    {
      "cell_type": "markdown",
      "metadata": {
        "id": "RIESQteQTSVC"
      },
      "source": [
        "** Find the product price from the name** \n"
      ]
    },
    {
      "cell_type": "code",
      "metadata": {
        "colab": {
          "base_uri": "https://localhost:8080/"
        },
        "id": "MtRV6AhqTeQO",
        "outputId": "c5ea0dfc-e285-47f4-9247-1f7d7fb889c8"
      },
      "source": [
        "for i in rec:\n",
        "  print(rec[i]['name'])"
      ],
      "execution_count": 125,
      "outputs": [
        {
          "output_type": "stream",
          "name": "stdout",
          "text": [
            "Galxy 5S\n",
            "sumsung Galaxy S21\n",
            "sumsung Galaxy A52\n",
            "sumsung Galaxy z\n",
            "Vivo 12pro\n",
            "Vivo17pro\n",
            "Oppo As2\n",
            "Oppo S17 \n",
            "Realme\n",
            "micromax\n",
            "motorolo\n",
            "Motorola12pro\n",
            "Nokia 8s \n",
            "Jiophone\n",
            "Mi S4\n",
            "VideoCon\n",
            "Tatasky\n",
            "Reliance \n",
            "Airtel\n",
            "Sony\n",
            "LCD \n",
            "LG LED\n",
            "Sonix\n",
            "Panasonic\n",
            "Zebronic\n",
            "Bolt Sound\n",
            "Intel sound \n",
            "JBL harmon\n",
            "smart watch i+\n",
            "iPhone \n"
          ]
        }
      ]
    },
    {
      "cell_type": "code",
      "metadata": {
        "colab": {
          "base_uri": "https://localhost:8080/"
        },
        "id": "_2Bf5WHkTuCu",
        "outputId": "6a85c90a-c958-4290-f9ef-5d7cc3d85447"
      },
      "source": [
        "nm= input(\"Enter the name : \")\n",
        "for i in rec:\n",
        "  if (nm==rec[i]['name']):\n",
        "\n",
        "    print(\"Product Price:\", rec[i]['pr'])\n"
      ],
      "execution_count": 139,
      "outputs": [
        {
          "output_type": "stream",
          "name": "stdout",
          "text": [
            "Enter the name : JBL harmon\n",
            "Product Price: 15000\n"
          ]
        }
      ]
    },
    {
      "cell_type": "code",
      "metadata": {
        "colab": {
          "base_uri": "https://localhost:8080/"
        },
        "id": "_DFoBXyjUEqo",
        "outputId": "61ba8505-1995-418a-a545-762d96eb377f"
      },
      "source": [
        "rec.get('11023')"
      ],
      "execution_count": 151,
      "outputs": [
        {
          "output_type": "execute_result",
          "data": {
            "text/plain": [
              "{'name': 'Sonix', 'pr': 60000, 'qn': 6}"
            ]
          },
          "metadata": {},
          "execution_count": 151
        }
      ]
    },
    {
      "cell_type": "code",
      "metadata": {
        "colab": {
          "base_uri": "https://localhost:8080/"
        },
        "id": "9O9stKvmYIKG",
        "outputId": "54df8e7f-6358-416f-813b-5bf103496a22"
      },
      "source": [
        "rec.items()"
      ],
      "execution_count": 155,
      "outputs": [
        {
          "output_type": "execute_result",
          "data": {
            "text/plain": [
              "dict_items([('11001', {'name': 'Galxy 5S', 'pr': 21000, 'qn': 15}), ('11002', {'name': 'sumsung Galaxy S21', 'pr': 78000, 'qn': 120}), ('11003', {'name': 'sumsung Galaxy A52', 'pr': 70000, 'qn': 10}), ('11004', {'name': 'sumsung Galaxy z', 'pr': 11000, 'qn': 24}), ('11005', {'name': 'Vivo 12pro', 'pr': 12000, 'qn': 12}), ('11006', {'name': 'Vivo17pro', 'pr': 13000, 'qn': 15}), ('11007', {'name': 'Oppo As2', 'pr': 10000, 'qn': 23}), ('11008', {'name': 'Oppo S17 ', 'pr': 8000, 'qn': 54}), ('11009', {'name': 'Realme', 'pr': 12000, 'qn': 34}), ('11010', {'name': 'micromax', 'pr': 7800, 'qn': 30}), ('11011', {'name': 'motorolo', 'pr': 23000, 'qn': 40}), ('11012', {'name': 'Motorola12pro', 'pr': 200000, 'qn': 26}), ('11013', {'name': 'Nokia 8s ', 'pr': 25000, 'qn': 18}), ('11014', {'name': 'Jiophone', 'pr': 3000, 'qn': 150}), ('11015', {'name': 'Mi S4', 'pr': 7000, 'qn': 75}), ('11016', {'name': 'VideoCon', 'pr': 3000, 'qn': 50}), ('11017', {'name': 'Tatasky', 'pr': 4000, 'qn': 50}), ('11018', {'name': 'Reliance ', 'pr': 5000, 'qn': 32}), ('11019', {'name': 'Airtel', 'pr': 3500, 'qn': 45}), ('11020', {'name': 'Sony', 'pr': 120000, 'qn': 5}), ('11021', {'name': 'LCD ', 'pr': 50000, 'qn': 28}), ('11022', {'name': 'LG LED', 'pr': 130000, 'qn': 8}), ('11023', {'name': 'Sonix', 'pr': 60000, 'qn': 6}), ('11024', {'name': 'Panasonic', 'pr': 40000, 'qn': 25}), ('11025', {'name': 'Zebronic', 'pr': 12000, 'qn': 37}), ('11026', {'name': 'Bolt Sound', 'pr': 10000, 'qn': 40}), ('11027', {'name': 'Intel sound ', 'pr': 1000, 'qn': 43}), ('11028', {'name': 'JBL harmon', 'pr': 15000, 'qn': 100}), ('11029', {'name': 'smart watch i+', 'pr': 8000, 'qn': 12}), ('11030', {'name': 'iPhone ', 'pr': 1200000, 'qn': 12})])"
            ]
          },
          "metadata": {},
          "execution_count": 155
        }
      ]
    },
    {
      "cell_type": "code",
      "metadata": {
        "colab": {
          "base_uri": "https://localhost:8080/"
        },
        "id": "OW7DfdJYaRzb",
        "outputId": "8825a92e-df63-4f2e-e586-531b50c77b4c"
      },
      "source": [
        "rec"
      ],
      "execution_count": 156,
      "outputs": [
        {
          "output_type": "execute_result",
          "data": {
            "text/plain": [
              "{'11001': {'name': 'Galxy 5S', 'pr': 21000, 'qn': 15},\n",
              " '11002': {'name': 'sumsung Galaxy S21', 'pr': 78000, 'qn': 120},\n",
              " '11003': {'name': 'sumsung Galaxy A52', 'pr': 70000, 'qn': 10},\n",
              " '11004': {'name': 'sumsung Galaxy z', 'pr': 11000, 'qn': 24},\n",
              " '11005': {'name': 'Vivo 12pro', 'pr': 12000, 'qn': 12},\n",
              " '11006': {'name': 'Vivo17pro', 'pr': 13000, 'qn': 15},\n",
              " '11007': {'name': 'Oppo As2', 'pr': 10000, 'qn': 23},\n",
              " '11008': {'name': 'Oppo S17 ', 'pr': 8000, 'qn': 54},\n",
              " '11009': {'name': 'Realme', 'pr': 12000, 'qn': 34},\n",
              " '11010': {'name': 'micromax', 'pr': 7800, 'qn': 30},\n",
              " '11011': {'name': 'motorolo', 'pr': 23000, 'qn': 40},\n",
              " '11012': {'name': 'Motorola12pro', 'pr': 200000, 'qn': 26},\n",
              " '11013': {'name': 'Nokia 8s ', 'pr': 25000, 'qn': 18},\n",
              " '11014': {'name': 'Jiophone', 'pr': 3000, 'qn': 150},\n",
              " '11015': {'name': 'Mi S4', 'pr': 7000, 'qn': 75},\n",
              " '11016': {'name': 'VideoCon', 'pr': 3000, 'qn': 50},\n",
              " '11017': {'name': 'Tatasky', 'pr': 4000, 'qn': 50},\n",
              " '11018': {'name': 'Reliance ', 'pr': 5000, 'qn': 32},\n",
              " '11019': {'name': 'Airtel', 'pr': 3500, 'qn': 45},\n",
              " '11020': {'name': 'Sony', 'pr': 120000, 'qn': 5},\n",
              " '11021': {'name': 'LCD ', 'pr': 50000, 'qn': 28},\n",
              " '11022': {'name': 'LG LED', 'pr': 130000, 'qn': 8},\n",
              " '11023': {'name': 'Sonix', 'pr': 60000, 'qn': 6},\n",
              " '11024': {'name': 'Panasonic', 'pr': 40000, 'qn': 25},\n",
              " '11025': {'name': 'Zebronic', 'pr': 12000, 'qn': 37},\n",
              " '11026': {'name': 'Bolt Sound', 'pr': 10000, 'qn': 40},\n",
              " '11027': {'name': 'Intel sound ', 'pr': 1000, 'qn': 43},\n",
              " '11028': {'name': 'JBL harmon', 'pr': 15000, 'qn': 100},\n",
              " '11029': {'name': 'smart watch i+', 'pr': 8000, 'qn': 12},\n",
              " '11030': {'name': 'iPhone ', 'pr': 1200000, 'qn': 12}}"
            ]
          },
          "metadata": {},
          "execution_count": 156
        }
      ]
    },
    {
      "cell_type": "code",
      "metadata": {
        "id": "Cr6r13ZxapJ_"
      },
      "source": [
        ""
      ],
      "execution_count": null,
      "outputs": []
    },
    {
      "cell_type": "markdown",
      "metadata": {
        "id": "MqDXUPedarME"
      },
      "source": [
        "**Update the Price**"
      ]
    },
    {
      "cell_type": "code",
      "metadata": {
        "colab": {
          "base_uri": "https://localhost:8080/",
          "height": 35
        },
        "id": "UAruTRj1aumw",
        "outputId": "4895a22d-36ab-4543-e335-7c7835a8aef7"
      },
      "source": [
        "rec['11030']['name']"
      ],
      "execution_count": 159,
      "outputs": [
        {
          "output_type": "execute_result",
          "data": {
            "application/vnd.google.colaboratory.intrinsic+json": {
              "type": "string"
            },
            "text/plain": [
              "'iPhone '"
            ]
          },
          "metadata": {},
          "execution_count": 159
        }
      ]
    },
    {
      "cell_type": "code",
      "metadata": {
        "colab": {
          "base_uri": "https://localhost:8080/"
        },
        "id": "QSLyFVSwa7GY",
        "outputId": "0e465f51-e49c-4fb0-eeda-889c9e53aa83"
      },
      "source": [
        "rec['11030']['pr']"
      ],
      "execution_count": 160,
      "outputs": [
        {
          "output_type": "execute_result",
          "data": {
            "text/plain": [
              "1200000"
            ]
          },
          "metadata": {},
          "execution_count": 160
        }
      ]
    },
    {
      "cell_type": "code",
      "metadata": {
        "id": "prGecjj3bIke"
      },
      "source": [
        "rec['11030']['pr']=65000"
      ],
      "execution_count": 164,
      "outputs": []
    },
    {
      "cell_type": "code",
      "metadata": {
        "colab": {
          "base_uri": "https://localhost:8080/"
        },
        "id": "bk1w1cP5bjNJ",
        "outputId": "065e5e61-9d94-4f68-837b-90390264ae83"
      },
      "source": [
        "rec['11030']['pr']"
      ],
      "execution_count": 165,
      "outputs": [
        {
          "output_type": "execute_result",
          "data": {
            "text/plain": [
              "65000"
            ]
          },
          "metadata": {},
          "execution_count": 165
        }
      ]
    },
    {
      "cell_type": "code",
      "metadata": {
        "colab": {
          "base_uri": "https://localhost:8080/"
        },
        "id": "dgCGhiJOcXtH",
        "outputId": "db4b875e-0f4b-44af-a442-9b1b19bacf69"
      },
      "source": [
        "rec\n"
      ],
      "execution_count": 166,
      "outputs": [
        {
          "output_type": "execute_result",
          "data": {
            "text/plain": [
              "{'11001': {'name': 'Galxy 5S', 'pr': 21000, 'qn': 15},\n",
              " '11002': {'name': 'sumsung Galaxy S21', 'pr': 78000, 'qn': 120},\n",
              " '11003': {'name': 'sumsung Galaxy A52', 'pr': 70000, 'qn': 10},\n",
              " '11004': {'name': 'sumsung Galaxy z', 'pr': 11000, 'qn': 24},\n",
              " '11005': {'name': 'Vivo 12pro', 'pr': 12000, 'qn': 12},\n",
              " '11006': {'name': 'Vivo17pro', 'pr': 13000, 'qn': 15},\n",
              " '11007': {'name': 'Oppo As2', 'pr': 10000, 'qn': 23},\n",
              " '11008': {'name': 'Oppo S17 ', 'pr': 8000, 'qn': 54},\n",
              " '11009': {'name': 'Realme', 'pr': 12000, 'qn': 34},\n",
              " '11010': {'name': 'micromax', 'pr': 7800, 'qn': 30},\n",
              " '11011': {'name': 'motorolo', 'pr': 23000, 'qn': 40},\n",
              " '11012': {'name': 'Motorola12pro', 'pr': 200000, 'qn': 26},\n",
              " '11013': {'name': 'Nokia 8s ', 'pr': 25000, 'qn': 18},\n",
              " '11014': {'name': 'Jiophone', 'pr': 3000, 'qn': 150},\n",
              " '11015': {'name': 'Mi S4', 'pr': 7000, 'qn': 75},\n",
              " '11016': {'name': 'VideoCon', 'pr': 3000, 'qn': 50},\n",
              " '11017': {'name': 'Tatasky', 'pr': 4000, 'qn': 50},\n",
              " '11018': {'name': 'Reliance ', 'pr': 5000, 'qn': 32},\n",
              " '11019': {'name': 'Airtel', 'pr': 3500, 'qn': 45},\n",
              " '11020': {'name': 'Sony', 'pr': 120000, 'qn': 5},\n",
              " '11021': {'name': 'LCD ', 'pr': 50000, 'qn': 28},\n",
              " '11022': {'name': 'LG LED', 'pr': 130000, 'qn': 8},\n",
              " '11023': {'name': 'Sonix', 'pr': 60000, 'qn': 6},\n",
              " '11024': {'name': 'Panasonic', 'pr': 40000, 'qn': 25},\n",
              " '11025': {'name': 'Zebronic', 'pr': 12000, 'qn': 37},\n",
              " '11026': {'name': 'Bolt Sound', 'pr': 10000, 'qn': 40},\n",
              " '11027': {'name': 'Intel sound ', 'pr': 1000, 'qn': 43},\n",
              " '11028': {'name': 'JBL harmon', 'pr': 15000, 'qn': 100},\n",
              " '11029': {'name': 'smart watch i+', 'pr': 8000, 'qn': 12},\n",
              " '11030': {'name': 'iPhone ', 'pr': 65000, 'qn': 12}}"
            ]
          },
          "metadata": {},
          "execution_count": 166
        }
      ]
    },
    {
      "cell_type": "code",
      "metadata": {
        "id": "rzV3MPr4cjAn"
      },
      "source": [
        ""
      ],
      "execution_count": null,
      "outputs": []
    }
  ]
}